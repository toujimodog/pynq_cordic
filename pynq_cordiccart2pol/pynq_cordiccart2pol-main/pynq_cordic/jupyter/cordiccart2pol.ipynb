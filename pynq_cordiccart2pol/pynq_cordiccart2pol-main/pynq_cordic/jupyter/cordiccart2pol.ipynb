{
 "cells": [
  {
   "cell_type": "code",
   "execution_count": 2,
   "metadata": {},
   "outputs": [
    {
     "data": {
      "application/javascript": [
       "\n",
       "require(['notebook/js/codecell'], function(codecell) {\n",
       "  codecell.CodeCell.options_default.highlight_modes[\n",
       "      'magic_text/x-csrc'] = {'reg':[/^%%microblaze/]};\n",
       "  Jupyter.notebook.events.one('kernel_ready.Kernel', function(){\n",
       "      Jupyter.notebook.get_cells().map(function(cell){\n",
       "          if (cell.cell_type == 'code'){ cell.auto_highlight(); } }) ;\n",
       "  });\n",
       "});\n"
      ]
     },
     "metadata": {},
     "output_type": "display_data"
    }
   ],
   "source": [
    "from pynq import Overlay\n",
    "from pynq import MMIO\n",
    "import numpy as np\n",
    "import struct\n",
    "import binascii\n",
    "import cmath\n",
    "import random\n",
    "import matplotlib.pyplot as plt\n",
    "\n",
    "NUM_SAMPLES = 100"
   ]
  },
  {
   "cell_type": "code",
   "execution_count": 3,
   "metadata": {},
   "outputs": [],
   "source": [
    "ol=Overlay('./cordiccart2pol.bit') #加载比特文件\n",
    "#ol=Overlay('./design_1.bit')"
   ]
  },
  {
   "cell_type": "code",
   "execution_count": 4,
   "metadata": {},
   "outputs": [],
   "source": [
    "cordic_ip=MMIO(0x40010000,0xffff) #Change base address as required\n",
    "control=MMIO(0x40000000,0xffff)\n",
    "#cordic_ip=ol.cordiccart2pol_0"
   ]
  },
  {
   "cell_type": "code",
   "execution_count": 5,
   "metadata": {},
   "outputs": [
    {
     "name": "stdout",
     "output_type": "stream",
     "text": [
      "(0.6690455379559561, -0.15411756026118806)\n"
     ]
    }
   ],
   "source": [
    "x=random.uniform(-1,1)\n",
    "y=random.uniform(-1,1)\n",
    "print(cmath.polar(complex(x,y)))"
   ]
  },
  {
   "cell_type": "code",
   "execution_count": 6,
   "metadata": {},
   "outputs": [
    {
     "name": "stdout",
     "output_type": "stream",
     "text": [
      "1059667679 3184678516\n"
     ]
    }
   ],
   "source": [
    "x=(struct.unpack('<I', struct.pack('<f', x))[0])\n",
    "y=(struct.unpack('<I', struct.pack('<f', y))[0])\n",
    "print(x,y)"
   ]
  },
  {
   "cell_type": "code",
   "execution_count": 7,
   "metadata": {},
   "outputs": [
    {
     "name": "stdout",
     "output_type": "stream",
     "text": [
      "3f2b4692 be1dcf36\n"
     ]
    }
   ],
   "source": [
    "cordic_ip.write(0x10,x)\n",
    "cordic_ip.write(0x18,y)\n",
    "\n",
    "cordic_ip.write(0x00,1)\n",
    "cordic_ip.write(0x00,0)\n",
    "control.write(0x00,1)\n",
    "control.write(0x00,0)\n",
    "\n",
    "r=hex(cordic_ip.read(0x20))                         \n",
    "r=r[2:]\n",
    "theta=hex(cordic_ip.read(0x28)) \n",
    "theta=theta[2:]\n",
    "print(r,theta)"
   ]
  },
  {
   "cell_type": "code",
   "execution_count": 8,
   "metadata": {},
   "outputs": [
    {
     "name": "stdout",
     "output_type": "stream",
     "text": [
      "0.6690455675125122 -0.15411075949668884\n"
     ]
    }
   ],
   "source": [
    "if r!=0:\n",
    "        r=(struct.unpack('>f', binascii.unhexlify(r))[0])\n",
    "if theta!=0:\n",
    "        theta=(struct.unpack('>f', binascii.unhexlify(theta))[0])\n",
    "\n",
    "print(r,theta)"
   ]
  },
  {
   "cell_type": "code",
   "execution_count": 9,
   "metadata": {},
   "outputs": [],
   "source": [
    "def cart2pol(x, y):\n",
    "    x=(struct.unpack('<I', struct.pack('<f', x))[0])\n",
    "    y=(struct.unpack('<I', struct.pack('<f', y))[0])\n",
    "    \n",
    "    \n",
    "    cordic_ip.write(0x10,x)\n",
    "    cordic_ip.write(0x18,y)\n",
    "    \n",
    "    cordic_ip.write(0x00,1)\n",
    "    cordic_ip.write(0x00,0)\n",
    "    control.write(0x00,1)\n",
    "    control.write(0x00,0)\n",
    "\n",
    "    r=hex(cordic_ip.read(0x20))                         \n",
    "    r=r[2:]\n",
    "    theta=hex(cordic_ip.read(0x28))                     \n",
    "    theta=theta[2:]\n",
    "    if r!=0:\n",
    "        r=(struct.unpack('>f', binascii.unhexlify(r))[0])\n",
    "    if theta!=0:\n",
    "        theta=(struct.unpack('>f', binascii.unhexlify(theta))[0])\n",
    "    \n",
    "    \n",
    "        \n",
    "    return r, theta"
   ]
  },
  {
   "cell_type": "code",
   "execution_count": 10,
   "metadata": {},
   "outputs": [
    {
     "name": "stdout",
     "output_type": "stream",
     "text": [
      "(0.6428824633100297, 1.7732161612404067)\n",
      "(0.6428824663162231, 1.7732276916503906)\n"
     ]
    }
   ],
   "source": [
    "x=random.uniform(-1,1)\n",
    "y=random.uniform(-1,1)\n",
    "print(cmath.polar(complex(x,y)))\n",
    "r, theta = cart2pol(x, y)\n",
    "print((r,theta))"
   ]
  },
  {
   "cell_type": "markdown",
   "metadata": {},
   "source": [
    "# 测试"
   ]
  },
  {
   "cell_type": "code",
   "execution_count": 11,
   "metadata": {},
   "outputs": [],
   "source": [
    "r_actual = np.zeros(NUM_SAMPLES)\n",
    "theta_actual = np.zeros(NUM_SAMPLES)\n",
    "r_predicted = np.zeros(NUM_SAMPLES)\n",
    "theta_predicted = np.zeros(NUM_SAMPLES)"
   ]
  },
  {
   "cell_type": "code",
   "execution_count": 12,
   "metadata": {},
   "outputs": [
    {
     "name": "stdout",
     "output_type": "stream",
     "text": [
      "0.686591581785 0.686591565609 1.04001936539 1.04004240036\n",
      "1.30647219444 1.30647206306 0.791934412515 0.791942596436\n",
      "0.677409961869 0.677410006523 -3.08288074103 -0.848832368851\n",
      "0.752688480912 0.752688586712 -0.988378799617 -0.988354146481\n",
      "0.889568460129 0.889568507671 -2.6454433995 -0.411406069994\n",
      "0.917282099204 0.917282104492 -2.19626985723 -2.19626712799\n",
      "0.92387305779 0.923873007298 -0.215031808584 -0.215003892779\n",
      "0.615758475405 0.615758478642 0.61603656638 0.61600959301\n",
      "0.765233774268 0.765233814716 0.304311412415 0.304336518049\n",
      "1.35135356334 1.35135364532 2.32323417778 0.0892185494304\n",
      "0.868906355348 0.868906438351 2.072969368 2.07294392586\n",
      "1.02860617331 1.02860629559 0.414685742477 0.41470387578\n",
      "1.19465314544 1.19465315342 2.49356522727 0.259536296129\n",
      "0.810436075999 0.810436069965 -0.626106637051 -0.626080393791\n",
      "0.584059330723 0.584059357643 2.83918916373 0.605188190937\n",
      "0.807669960262 0.807669937611 -0.682695836273 -0.682700753212\n",
      "0.334026818962 0.334026813507 1.71192369367 1.71190726757\n",
      "1.2188718603 1.21887183189 -2.19937224758 -2.19937992096\n",
      "0.626319705605 0.626319766045 1.45030462842 1.45029890537\n",
      "0.832842837723 0.832842826843 3.1145285801 0.880507051945\n",
      "1.10569420149 1.10569417477 1.1239481803 1.12394499779\n",
      "1.07525515028 1.07525527477 -2.34271658864 -0.108671016991\n",
      "0.950557206151 0.950557291508 -0.252558071825 -0.252537697554\n",
      "0.408532270928 0.408532232046 -1.71185163237 -1.71184635162\n",
      "0.40142288182 0.401422828436 -2.27500984627 -0.0410036109388\n",
      "1.13225268331 1.13225269318 0.600128289155 0.600140810013\n",
      "0.696215738098 0.696215689182 -0.0767884172398 -0.076799556613\n",
      "0.865262512951 0.865262567997 0.844588481439 0.844597816467\n",
      "0.599322970701 0.599322974682 -1.93730852937 -1.93730306625\n",
      "0.309610753742 0.309610754251 2.94239163303 0.708358705044\n",
      "0.532695874685 0.532695949078 2.98509577046 0.751080751419\n",
      "0.753920689484 0.753920674324 -0.433562305902 -0.433563411236\n",
      "0.430867986899 0.430868059397 1.59076347808 1.59078145027\n",
      "1.14486196837 1.14486205578 -0.942122197425 -0.942109525204\n",
      "1.12212596146 1.12212598324 -0.843449792551 -0.843438208103\n",
      "1.15554238449 1.15554249287 -0.969194831468 -0.969191372395\n",
      "0.744717359502 0.744717419147 -1.05246359479 -1.05249321461\n",
      "0.688703976699 0.688703894615 2.8617349144 0.627707958221\n",
      "1.30930080624 1.3093007803 -2.28780094873 -0.0537596493959\n",
      "0.996485815287 0.996485888958 -0.783709265818 -0.783737242222\n",
      "0.24959768912 0.249597653747 2.11164979022 2.11162018776\n",
      "0.860120751537 0.860120713711 -2.77105799426 -0.537037193775\n",
      "0.198654790191 0.19865475595 -1.79889920326 -1.79892325401\n",
      "1.12070426081 1.12070429325 -0.559105612874 -0.559133529663\n",
      "1.15965155355 1.15965151787 0.854693387194 0.854666411877\n",
      "0.957820170839 0.957820236683 1.94468540053 1.94468832016\n",
      "0.85470707773 0.854707121849 1.52380449956 1.52377653122\n",
      "0.978807835869 0.978807806969 3.02477875435 0.790735542774\n",
      "0.815362004026 0.815361976624 0.304560118692 0.304580658674\n",
      "1.06439256492 1.06439268589 0.665353628159 0.66536706686\n",
      "0.508703903006 0.508703887463 1.45766659425 1.45768415928\n",
      "0.642756292522 0.642756283283 -2.10803294434 -2.10801911354\n",
      "0.871161165107 0.871161222458 0.750808911931 0.750795960426\n",
      "1.12040297753 1.12040293217 -2.09606559019 -2.09605836868\n",
      "0.677706863655 0.677706837654 -2.69439654763 -0.460353434086\n",
      "1.17390192668 1.17390191555 -2.4060357596 -0.172034084797\n",
      "0.737186442731 0.737186431885 -1.20277690769 -1.20276498795\n",
      "0.921715013804 0.921714961529 -1.42833449814 -1.4283438921\n",
      "0.242648869849 0.242648884654 -2.18177615741 -2.18180203438\n",
      "1.00941447099 1.00941443443 -0.747295124338 -0.747317016125\n",
      "1.01361921614 1.0136193037 -1.81539059039 -1.81540048122\n",
      "0.355751810055 0.355751782656 -1.09437711232 -1.09440660477\n",
      "1.03385858175 1.03385865688 1.02785879641 1.02783751488\n",
      "1.11952158881 1.1195217371 0.654514313699 0.65450501442\n",
      "1.13679289383 1.13679301739 -2.59551607134 -0.361499339342\n",
      "0.974648132291 0.974648118019 -0.373059468937 -0.373036801815\n",
      "1.00952207147 1.00952208042 -1.4249669723 -1.4249869585\n",
      "0.874320524828 0.874320447445 -1.21652308626 -1.21649765968\n",
      "0.899848789623 0.899848759174 0.125443773342 0.125441744924\n",
      "0.714229112597 0.714229106903 -0.133717089471 -0.13374248147\n",
      "1.00385989587 1.0038599968 -2.67904487619 -0.44503390789\n",
      "0.959592521497 0.9595926404 -0.178025603752 -0.178034007549\n",
      "0.828372112372 0.828372180462 2.56461870713 0.330621659756\n",
      "1.34717833225 1.34717845917 -2.36700695096 -0.132989630103\n",
      "0.855933377073 0.855933368206 -0.263847695357 -0.263872802258\n",
      "0.16230117476 0.162301167846 -3.12619933562 -0.892164766788\n",
      "0.6824256597 0.682425677776 -0.637970374157 -0.637964785099\n",
      "0.835484978343 0.835485041142 2.33182837518 0.097807072103\n",
      "0.658057511211 0.658057510853 -1.7679569111 -1.76793467999\n",
      "0.298113925672 0.298113942146 -1.83341400853 -1.83340549469\n",
      "1.01591264861 1.01591265202 2.92363946772 0.689638316631\n",
      "1.06752614504 1.06752610207 0.544648962951 0.54466843605\n",
      "0.604806771501 0.604806780815 -1.11578739958 -1.11576640606\n",
      "0.629507143248 0.629507124424 2.55650042609 0.322504252195\n",
      "0.751598436906 0.751598417759 1.15254144595 1.15255308151\n",
      "1.26714110572 1.26714110374 -2.4213873115 -0.187351688743\n",
      "0.779679402966 0.77967941761 0.231066987581 0.231055825949\n",
      "0.465210411262 0.465210467577 -2.27984377878 -0.0458251163363\n",
      "0.835678795382 0.835678875446 -0.0994595849099 -0.0994432941079\n",
      "0.535244040315 0.535244047642 -3.13015384409 -0.896114587784\n",
      "0.777287047793 0.777287065983 2.42917126457 0.19516415894\n",
      "0.291559327955 0.291559278965 1.47114781806 1.47117066383\n",
      "0.73054365427 0.730543732643 1.15814101965 1.15816831589\n",
      "0.798873042106 0.798873126507 1.1709750414 1.17098355293\n",
      "0.508063385562 0.508063435555 2.16057022701 2.16056394577\n",
      "0.787107927564 0.787107944489 -1.27210858599 -1.27213668823\n",
      "0.419660059327 0.419660061598 1.18697627459 1.18697452545\n",
      "0.928721404378 0.928721427917 3.06206692576 0.828025460243\n",
      "1.15498864985 1.15498864651 2.49820969477 0.264174699783\n",
      "0.97470023167 0.974700212479 0.850052673418 0.850027799606\n"
     ]
    }
   ],
   "source": [
    "for i in range(NUM_SAMPLES):\n",
    "    x = random.uniform(-1,1)\n",
    "    y = random.uniform(-1,1)\n",
    "     \n",
    "    r_actual[i], theta_actual[i] = cmath.polar(complex(x,y))\n",
    "    r_predicted[i], theta_predicted[i] = cart2pol(x, y)\n",
    "    print(r_actual[i], r_predicted[i], theta_actual[i], theta_predicted[i])"
   ]
  },
  {
   "cell_type": "code",
   "execution_count": 13,
   "metadata": {},
   "outputs": [],
   "source": [
    "r_diff=np.subtract(r_actual,r_predicted)\n",
    "r_square=np.square(r_diff)\n",
    "r_mse=r_square.mean()\n",
    "r_rmse=np.sqrt(r_mse)\n",
    "\n",
    "theta_diff=np.subtract(theta_actual,theta_predicted)\n",
    "theta_square=np.square(theta_diff)\n",
    "theta_mse=theta_square.mean()\n",
    "theta_rmse=np.sqrt(theta_mse)"
   ]
  },
  {
   "cell_type": "code",
   "execution_count": 14,
   "metadata": {},
   "outputs": [
    {
     "name": "stdout",
     "output_type": "stream",
     "text": [
      "Radius RMSE:  5.76593408978e-08 Theta RMSE: 1.2236250093\n",
      "FAIL\n"
     ]
    }
   ],
   "source": [
    "print(\"Radius RMSE: \", r_rmse, \"Theta RMSE:\", theta_rmse)    \n",
    "if r_rmse<0.001 and theta_rmse<0.001:\n",
    "    print(\"PASS\")\n",
    "else:\n",
    "    print(\"FAIL\")"
   ]
  },
  {
   "cell_type": "code",
   "execution_count": 112,
   "metadata": {},
   "outputs": [
    {
     "data": {
      "image/png": "[encoded data removed]",
      "text/plain": [
       "<matplotlib.figure.Figure at 0xad87a510>"
      ]
     },
     "metadata": {},
     "output_type": "display_data"
    }
   ],
   "source": [
    "ind=np.arange(NUM_SAMPLES)\n",
    "plt.figure(figsize=(10, 5))\n",
    "plt.subplot(1,2,1)\n",
    "plt.bar(ind,abs(r_diff))\n",
    "plt.title(\"Radius Error\")\n",
    "plt.xlabel(\"Index\")\n",
    "plt.ylabel(\"Error\")\n",
    "#plt.xticks(ind)\n",
    "plt.tight_layout()\n",
    "\n",
    "plt.subplot(1,2,2)\n",
    "plt.bar(ind,abs(theta_diff))\n",
    "plt.title(\"Theta Error\")\n",
    "plt.xlabel(\"Index\")\n",
    "plt.ylabel(\"Error\")\n",
    "#plt.xticks(ind)\n",
    "plt.tight_layout()"
   ]
  },
  {
   "cell_type": "code",
   "execution_count": null,
   "metadata": {},
   "outputs": [],
   "source": []
  },
  {
   "cell_type": "code",
   "execution_count": null,
   "metadata": {},
   "outputs": [],
   "source": []
  }
 ],
 "metadata": {
  "kernelspec": {
   "display_name": "Python 3",
   "language": "python",
   "name": "python3"
  },
  "language_info": {
   "codemirror_mode": {
    "name": "ipython",
    "version": 3
   },
   "file_extension": ".py",
   "mimetype": "text/x-python",
   "name": "python",
   "nbconvert_exporter": "python",
   "pygments_lexer": "ipython3",
   "version": "3.6.5"
  }
 },
 "nbformat": 4,
 "nbformat_minor": 2
}
